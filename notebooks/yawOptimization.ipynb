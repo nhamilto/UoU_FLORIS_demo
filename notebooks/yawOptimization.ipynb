{
 "cells": [
  {
   "cell_type": "markdown",
   "metadata": {},
   "source": [
    "# Yaw Optimization\n",
    "\n",
    "See https://github.com/NREL/floris/blob/main/examples/optimization/scipy/controls_optimization/optimize_yaw.py\n",
    "\n",
    "Written by Christopher J. Bay\n",
    "\n",
    "Nicholas Hamilton\n",
    "nicholas.hamilton@nrel.gov\n",
    "\n",
    "2021-02-03"
   ]
  },
  {
   "cell_type": "code",
   "execution_count": 1,
   "metadata": {},
   "outputs": [],
   "source": [
    "### system-level libs\n",
    "import os, sys\n",
    "\n",
    "### analysis libs\n",
    "import numpy as np\n",
    "\n",
    "### plotting libs\n",
    "import matplotlib.pyplot as plt\n",
    "plt.style.use('seaborn-deep')\n",
    "import seaborn as sns\n",
    "\n",
    "### Floris\n",
    "import floris.tools as ft\n",
    "from floris.tools.optimization.scipy.yaw import YawOptimization\n"
   ]
  },
  {
   "cell_type": "markdown",
   "metadata": {},
   "source": [
    "## initialize Floris\n",
    "Same setup as in the `example_input.json`, but with 5 turbines aligned axially."
   ]
  },
  {
   "cell_type": "code",
   "execution_count": 2,
   "metadata": {},
   "outputs": [],
   "source": [
    "fi = ft.floris_interface.FlorisInterface('combination_test_input.json')"
   ]
  },
  {
   "cell_type": "markdown",
   "metadata": {},
   "source": [
    "## Modify layout"
   ]
  },
  {
   "cell_type": "code",
   "execution_count": 3,
   "metadata": {},
   "outputs": [],
   "source": [
    "# Set turbine locations to 3 turbines in a row\n",
    "D = fi.floris.farm.turbines[0].rotor_diameter\n",
    "layout_x = [0, 7 * D, 14 * D]\n",
    "layout_y = [0, 0, 0]\n",
    "fi.reinitialize_flow_field(layout_array=(layout_x, layout_y))\n",
    "fi.calculate_wake()\n",
    "\n",
    "# Initial power output\n",
    "power_initial = fi.get_farm_power()"
   ]
  },
  {
   "cell_type": "markdown",
   "metadata": {},
   "source": [
    "## Optimize yaw for maximum power production"
   ]
  },
  {
   "cell_type": "code",
   "execution_count": 4,
   "metadata": {},
   "outputs": [
    {
     "name": "stdout",
     "output_type": "stream",
     "text": [
      "Finding optimal yaw angles in FLORIS...\n",
      "=====================================================\n",
      "Optimizing wake redirection control...\n",
      "Number of parameters to optimize =  3\n",
      "=====================================================\n",
      "==========================================\n",
      "yaw angles = \n",
      "Turbine  0 = 25.0  deg\n",
      "Turbine  1 = 25.0  deg\n",
      "Turbine  2 = 0.0  deg\n",
      "==========================================\n",
      "Total Power Gain = 16.3%\n",
      "==========================================\n"
     ]
    }
   ],
   "source": [
    "# =============================================================================\n",
    "print(\"Finding optimal yaw angles in FLORIS...\")\n",
    "# =============================================================================\n",
    "# Set bounds for allowable wake steering\n",
    "min_yaw = 0.0\n",
    "max_yaw = 25.0\n",
    "\n",
    "# Instantiate the Optimization object\n",
    "yaw_opt = YawOptimization(fi, minimum_yaw_angle=min_yaw, maximum_yaw_angle=max_yaw)\n",
    "\n",
    "# Perform optimization\n",
    "yaw_angles = yaw_opt.optimize()\n",
    "\n",
    "print(\"==========================================\")\n",
    "print(\"yaw angles = \")\n",
    "for i in range(len(yaw_angles)):\n",
    "    print(\"Turbine \", i, \"=\", yaw_angles[i], \" deg\")\n",
    "\n",
    "# Assign yaw angles to turbines and calculate wake\n",
    "fi.calculate_wake(yaw_angles=yaw_angles)\n",
    "power_opt = fi.get_farm_power()\n",
    "\n",
    "print(\"==========================================\")\n",
    "print(\n",
    "    \"Total Power Gain = %.1f%%\" % (100.0 * (power_opt - power_initial) / power_initial)\n",
    ")\n",
    "print(\"==========================================\")"
   ]
  },
  {
   "cell_type": "markdown",
   "metadata": {},
   "source": [
    "## Visualize"
   ]
  },
  {
   "cell_type": "code",
   "execution_count": 5,
   "metadata": {},
   "outputs": [
    {
     "name": "stderr",
     "output_type": "stream",
     "text": [
      "\u001b[34mfloris.tools.floris_interface.FlorisInterface\u001b[0m \u001b[1;30mINFO\u001b[0m Default to hub height = 90.0 for horizontal plane.\n"
     ]
    },
    {
     "name": "stdout",
     "output_type": "stream",
     "text": [
      "Plotting the FLORIS flowfield with yaw...\n"
     ]
    },
    {
     "data": {
      "text/plain": [
       "Text(0.5, 1.0, 'Optimal Wake Steering for U = 8 m/s, Wind Direction = 270$^\\\\circ$')"
      ]
     },
     "execution_count": 5,
     "metadata": {},
     "output_type": "execute_result"
    },
    {
     "data": {
      "image/png": "[encoded data removed]",
      "text/plain": [
       "<Figure size 720x288 with 1 Axes>"
      ]
     },
     "metadata": {
      "needs_background": "light"
     },
     "output_type": "display_data"
    }
   ],
   "source": [
    "# =============================================================================\n",
    "print(\"Plotting the FLORIS flowfield with yaw...\")\n",
    "# =============================================================================\n",
    "\n",
    "# Initialize the horizontal cut\n",
    "hor_plane = fi.get_hor_plane(x_resolution=400, y_resolution=100)\n",
    "\n",
    "# Plot and show\n",
    "fig, ax = plt.subplots(figsize=(10,4))\n",
    "ft.visualization.visualize_cut_plane(hor_plane, ax=ax)\n",
    "ax.set_title(\"Optimal Wake Steering for U = 8 m/s, Wind Direction = 270$^\\circ$\")\n"
   ]
  },
  {
   "cell_type": "code",
   "execution_count": null,
   "metadata": {},
   "outputs": [],
   "source": []
  }
 ],
 "metadata": {
  "kernelspec": {
   "display_name": "floris",
   "language": "python",
   "name": "floris"
  },
  "language_info": {
   "codemirror_mode": {
    "name": "ipython",
    "version": 3
   },
   "file_extension": ".py",
   "mimetype": "text/x-python",
   "name": "python",
   "nbconvert_exporter": "python",
   "pygments_lexer": "ipython3",
   "version": "3.7.6"
  }
 },
 "nbformat": 4,
 "nbformat_minor": 4
}
